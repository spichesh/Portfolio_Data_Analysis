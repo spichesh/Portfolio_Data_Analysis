{
 "cells": [
  {
   "cell_type": "code",
   "execution_count": 33,
   "id": "09fa5170",
   "metadata": {},
   "outputs": [],
   "source": [
    "import pandas as pd\n",
    "import numpy as np\n",
    "import statsmodels.stats.api as sms\n",
    "import scipy"
   ]
  },
  {
   "cell_type": "code",
   "execution_count": 5,
   "id": "87548a36",
   "metadata": {},
   "outputs": [
    {
     "data": {
      "text/html": [
       "<div>\n",
       "<style scoped>\n",
       "    .dataframe tbody tr th:only-of-type {\n",
       "        vertical-align: middle;\n",
       "    }\n",
       "\n",
       "    .dataframe tbody tr th {\n",
       "        vertical-align: top;\n",
       "    }\n",
       "\n",
       "    .dataframe thead th {\n",
       "        text-align: right;\n",
       "    }\n",
       "</style>\n",
       "<table border=\"1\" class=\"dataframe\">\n",
       "  <thead>\n",
       "    <tr style=\"text-align: right;\">\n",
       "      <th></th>\n",
       "      <th>user_id</th>\n",
       "      <th>timestamp</th>\n",
       "      <th>group</th>\n",
       "      <th>landing_page</th>\n",
       "      <th>converted</th>\n",
       "    </tr>\n",
       "  </thead>\n",
       "  <tbody>\n",
       "    <tr>\n",
       "      <th>0</th>\n",
       "      <td>851104</td>\n",
       "      <td>11:48.6</td>\n",
       "      <td>control</td>\n",
       "      <td>old_page</td>\n",
       "      <td>0</td>\n",
       "    </tr>\n",
       "    <tr>\n",
       "      <th>1</th>\n",
       "      <td>804228</td>\n",
       "      <td>01:45.2</td>\n",
       "      <td>control</td>\n",
       "      <td>old_page</td>\n",
       "      <td>0</td>\n",
       "    </tr>\n",
       "    <tr>\n",
       "      <th>2</th>\n",
       "      <td>661590</td>\n",
       "      <td>55:06.2</td>\n",
       "      <td>treatment</td>\n",
       "      <td>new_page</td>\n",
       "      <td>0</td>\n",
       "    </tr>\n",
       "    <tr>\n",
       "      <th>3</th>\n",
       "      <td>853541</td>\n",
       "      <td>28:03.1</td>\n",
       "      <td>treatment</td>\n",
       "      <td>new_page</td>\n",
       "      <td>0</td>\n",
       "    </tr>\n",
       "    <tr>\n",
       "      <th>4</th>\n",
       "      <td>864975</td>\n",
       "      <td>52:26.2</td>\n",
       "      <td>control</td>\n",
       "      <td>old_page</td>\n",
       "      <td>1</td>\n",
       "    </tr>\n",
       "  </tbody>\n",
       "</table>\n",
       "</div>"
      ],
      "text/plain": [
       "   user_id timestamp      group landing_page  converted\n",
       "0   851104   11:48.6    control     old_page          0\n",
       "1   804228   01:45.2    control     old_page          0\n",
       "2   661590   55:06.2  treatment     new_page          0\n",
       "3   853541   28:03.1  treatment     new_page          0\n",
       "4   864975   52:26.2    control     old_page          1"
      ]
     },
     "execution_count": 5,
     "metadata": {},
     "output_type": "execute_result"
    }
   ],
   "source": [
    "df = pd.read_csv('ab_data.csv')\n",
    "df.head()"
   ]
  },
  {
   "cell_type": "code",
   "execution_count": 6,
   "id": "d9d19cbc",
   "metadata": {},
   "outputs": [
    {
     "name": "stdout",
     "output_type": "stream",
     "text": [
      "<class 'pandas.core.frame.DataFrame'>\n",
      "RangeIndex: 294480 entries, 0 to 294479\n",
      "Data columns (total 5 columns):\n",
      " #   Column        Non-Null Count   Dtype \n",
      "---  ------        --------------   ----- \n",
      " 0   user_id       294480 non-null  int64 \n",
      " 1   timestamp     294480 non-null  object\n",
      " 2   group         294480 non-null  object\n",
      " 3   landing_page  294480 non-null  object\n",
      " 4   converted     294480 non-null  int64 \n",
      "dtypes: int64(2), object(3)\n",
      "memory usage: 11.2+ MB\n"
     ]
    }
   ],
   "source": [
    "df.info()"
   ]
  },
  {
   "cell_type": "code",
   "execution_count": 11,
   "id": "f539c003",
   "metadata": {},
   "outputs": [
    {
     "data": {
      "text/plain": [
       "0"
      ]
     },
     "execution_count": 11,
     "metadata": {},
     "output_type": "execute_result"
    }
   ],
   "source": [
    "df.duplicated().sum()"
   ]
  },
  {
   "cell_type": "code",
   "execution_count": 12,
   "id": "63d8a4f1",
   "metadata": {},
   "outputs": [
    {
     "data": {
      "text/plain": [
       "user_id         290585\n",
       "timestamp        35993\n",
       "group                2\n",
       "landing_page         2\n",
       "converted            2\n",
       "dtype: int64"
      ]
     },
     "execution_count": 12,
     "metadata": {},
     "output_type": "execute_result"
    }
   ],
   "source": [
    "df.nunique()"
   ]
  },
  {
   "cell_type": "code",
   "execution_count": 19,
   "id": "7f0f746d",
   "metadata": {},
   "outputs": [
    {
     "data": {
      "text/plain": [
       "(286690, 5)"
      ]
     },
     "execution_count": 19,
     "metadata": {},
     "output_type": "execute_result"
    }
   ],
   "source": [
    "df = df.drop_duplicates(subset = 'user_id', keep = False)\n",
    "df.shape"
   ]
  },
  {
   "cell_type": "code",
   "execution_count": 20,
   "id": "b4319816",
   "metadata": {},
   "outputs": [
    {
     "data": {
      "text/plain": [
       "group\n",
       "control      143293\n",
       "treatment    143397\n",
       "Name: user_id, dtype: int64"
      ]
     },
     "execution_count": 20,
     "metadata": {},
     "output_type": "execute_result"
    }
   ],
   "source": [
    "df.groupby('group')['user_id'].count()"
   ]
  },
  {
   "cell_type": "markdown",
   "id": "68234d7b",
   "metadata": {},
   "source": [
    "имеем равные выборки "
   ]
  },
  {
   "cell_type": "markdown",
   "id": "3c68ece5",
   "metadata": {},
   "source": [
    "Посмотрим на значение целевой метрики"
   ]
  },
  {
   "cell_type": "code",
   "execution_count": 23,
   "id": "f6e41590",
   "metadata": {},
   "outputs": [
    {
     "data": {
      "text/plain": [
       "group\n",
       "control      0.120173\n",
       "treatment    0.118726\n",
       "Name: converted, dtype: float64"
      ]
     },
     "execution_count": 23,
     "metadata": {},
     "output_type": "execute_result"
    }
   ],
   "source": [
    "df.groupby('group')['converted'].mean()"
   ]
  },
  {
   "cell_type": "markdown",
   "id": "3ee870b6",
   "metadata": {},
   "source": [
    "Для t-теста выборки должны соответствовать следующим условиям:\n",
    "* Равенство дисперсий\n",
    "* Наблюдения независимы и случайны\n",
    "* Нормальное распределение средних значений\n",
    "    "
   ]
  },
  {
   "cell_type": "markdown",
   "id": "6be47e90",
   "metadata": {},
   "source": [
    "Проверим независимость выборок"
   ]
  },
  {
   "cell_type": "code",
   "execution_count": 120,
   "id": "01612d44",
   "metadata": {},
   "outputs": [
    {
     "name": "stdout",
     "output_type": "stream",
     "text": [
      "0\n"
     ]
    }
   ],
   "source": [
    "sample_user_id_control = []\n",
    "user_id_control = df.loc[df.group == 'control', 'user_id'].tolist()\n",
    "user_id_target = df.loc[df.group == 'treatment', 'user_id'].tolist()\n",
    "print(len(list(set(user_id_control) & set(user_id_target))))"
   ]
  },
  {
   "cell_type": "markdown",
   "id": "58838574",
   "metadata": {},
   "source": [
    "Никто из контрольной группы не попал в тестовую и наоборот, значит, выборки независимы."
   ]
  },
  {
   "cell_type": "markdown",
   "id": "532f09c2",
   "metadata": {},
   "source": [
    "Проверить случайность мы не можем исходя из данного датасета. Примем это условие на веру."
   ]
  },
  {
   "cell_type": "markdown",
   "id": "711988b5",
   "metadata": {},
   "source": [
    "#### Проверка нормального распределения выборок"
   ]
  },
  {
   "cell_type": "markdown",
   "id": "b06c7035",
   "metadata": {},
   "source": [
    "H<sub>0</sub> - распределение средних значения 'converted' нормальное  \\\n",
    "H<sub>1</sub> - распределение средних значения 'converted' не соответствует нормальному"
   ]
  },
  {
   "cell_type": "markdown",
   "id": "25066d43",
   "metadata": {},
   "source": [
    "Проверим это с помощью бутстрапа, просемплировав выборки"
   ]
  },
  {
   "cell_type": "code",
   "execution_count": 27,
   "id": "a8e22c27",
   "metadata": {},
   "outputs": [],
   "source": [
    "sample_means_control = []\n",
    "sample_means_target = []\n",
    "for i in range(10000):\n",
    "    sample_control = df.loc[df.group =='control', 'converted'].sample(frac=1, replace=True)\n",
    "    sample_target = df.loc[df.group =='treatment', 'converted'].sample(frac=1, replace=True)\n",
    "    sample_means_control.append(sample_control.mean())\n",
    "    sample_means_target.append(sample_target.mean())"
   ]
  },
  {
   "cell_type": "code",
   "execution_count": 51,
   "id": "bf583752",
   "metadata": {},
   "outputs": [
    {
     "data": {
      "image/png": "[encoded data removed]",
      "text/plain": [
       "<Figure size 432x288 with 1 Axes>"
      ]
     },
     "metadata": {
      "needs_background": "light"
     },
     "output_type": "display_data"
    },
    {
     "data": {
      "image/png": "[encoded data removed]",
      "text/plain": [
       "<Figure size 432x288 with 1 Axes>"
      ]
     },
     "metadata": {
      "needs_background": "light"
     },
     "output_type": "display_data"
    }
   ],
   "source": [
    "import matplotlib.pyplot as plt\n",
    "count, bins, ignored = plt.hist(sample_means_control, 30, density = True)\n",
    "plt.title('Distribution of the control population')\n",
    "plt.show()\n",
    "count, bins, ignored = plt.hist(sample_means_target, 30, density = True)\n",
    "plt.title('Distribution of the target population')\n",
    "plt.show()"
   ]
  },
  {
   "cell_type": "code",
   "execution_count": 41,
   "id": "f3de64ec",
   "metadata": {},
   "outputs": [
    {
     "data": {
      "image/png": "[encoded data removed]",
      "text/plain": [
       "<Figure size 1440x1200 with 2 Axes>"
      ]
     },
     "metadata": {
      "needs_background": "light"
     },
     "output_type": "display_data"
    }
   ],
   "source": [
    "plt.figure(figsize=(12,10), dpi = 120)\n",
    "plt.subplot(2,2,1)\n",
    "scipy.stats.probplot(sample_means_control, dist=\"norm\", plot=plt)\n",
    "plt.title('Control group')\n",
    "plt.subplot(2,2,2)\n",
    "scipy.stats.probplot(sample_means_target, dist=\"norm\", plot=plt)\n",
    "plt.title('Target group')\n",
    "plt.show()"
   ]
  },
  {
   "cell_type": "code",
   "execution_count": 68,
   "id": "577817e3",
   "metadata": {},
   "outputs": [
    {
     "name": "stdout",
     "output_type": "stream",
     "text": [
      "Тест на нормальность распределения control группы: W = 1.000 ,\n",
      "p-value = 0.158 => не стат значимо, нормальное\n",
      "Тест на нормальность распределения target группы: W = 1.000 ,\n",
      "p-value = 0.158 => не стат значимо, нормальное\n"
     ]
    },
    {
     "name": "stderr",
     "output_type": "stream",
     "text": [
      "D:\\Anaconda\\lib\\site-packages\\scipy\\stats\\morestats.py:1760: UserWarning: p-value may not be accurate for N > 5000.\n",
      "  warnings.warn(\"p-value may not be accurate for N > 5000.\")\n"
     ]
    }
   ],
   "source": [
    "sp_shapiro_control = scipy.stats.shapiro(sample_means_control)\n",
    "concl_shapiro_control = '=> не стат значимо, нормальное' if sp_shapiro_control[1]>0.05 else '=> стат значимо не нормально' \n",
    "print('Тест на нормальность распределения control группы: W = %.3f' % sp_shapiro_control[0],',\\np-value = %.3f' % sp[1], concl_shapiro_control)\n",
    "\n",
    "sp_shapiro_target = scipy.stats.shapiro(sample_means_target)\n",
    "concl_shapiro_target = '=> не стат значимо, нормальное' if sp_shapiro_target[1]>0.05 else '=> стат значимо не нормально' \n",
    "print('Тест на нормальность распределения target группы: W = %.3f' % sp_shapiro_target[0],',\\np-value = %.3f' % sp[1], concl_shapiro_target)\n"
   ]
  },
  {
   "cell_type": "markdown",
   "id": "f6c7c430",
   "metadata": {},
   "source": [
    "#### Проверка гомогенности дисперсий выборок"
   ]
  },
  {
   "cell_type": "markdown",
   "id": "cc4c4c10",
   "metadata": {},
   "source": [
    "Проверим с помощью критерия Левена"
   ]
  },
  {
   "cell_type": "code",
   "execution_count": 59,
   "id": "536e730a",
   "metadata": {},
   "outputs": [],
   "source": [
    "import seaborn as sns"
   ]
  },
  {
   "cell_type": "code",
   "execution_count": 58,
   "id": "f3252198",
   "metadata": {},
   "outputs": [
    {
     "data": {
      "image/png": "[encoded data removed]",
      "text/plain": [
       "<Figure size 432x288 with 1 Axes>"
      ]
     },
     "metadata": {
      "needs_background": "light"
     },
     "output_type": "display_data"
    }
   ],
   "source": [
    "control_target_samples = {'control': sample_means_control, 'target': sample_means_target}\n",
    "var_data = pd.DataFrame(control_target_samples)\n",
    "sns.histplot(data=var_data, element=\"poly\", color='r', fill=False);\n"
   ]
  },
  {
   "cell_type": "code",
   "execution_count": 71,
   "id": "9c175cbd",
   "metadata": {},
   "outputs": [
    {
     "name": "stdout",
     "output_type": "stream",
     "text": [
      "Тест на гомогенность дисперсий групп: W = 0.177 ,\n",
      "p-value = 0.674 => не стат значимо, гомогенны\n"
     ]
    }
   ],
   "source": [
    "sp_levene = scipy.stats.levene(sample_means_control, sample_means_target, center = 'mean')\n",
    "concl_levene = '=> не стат значимо, гомогенны' if sp_levene[1]>0.05 else '=> стат значимо не гомогенно' \n",
    "print('Тест на гомогенность дисперсий групп: W = %.3f' % sp_levene[0],',\\np-value = %.3f' % sp_levene[1], concl_levene)\n"
   ]
  },
  {
   "cell_type": "markdown",
   "id": "db0a6d52",
   "metadata": {},
   "source": [
    "#### Выборки удовлетворяют всем требованиям для применения t-теста. "
   ]
  },
  {
   "cell_type": "markdown",
   "id": "56eb35c8",
   "metadata": {},
   "source": [
    "H<sub>0</sub> - Средние значения совокупностей равны  \\\n",
    "H<sub>1</sub> - Средние значения совокупностей отличны"
   ]
  },
  {
   "cell_type": "code",
   "execution_count": 78,
   "id": "b39aee92",
   "metadata": {},
   "outputs": [
    {
     "name": "stdout",
     "output_type": "stream",
     "text": [
      "Тест на равентво средних значений контрольной и тестовой групп: W = 119.467 \n",
      "p-value = 0.000000 => стат значимо, cредние значения совокупностей отличны\n"
     ]
    }
   ],
   "source": [
    "sp_t_test = scipy.stats.ttest_ind(a=sample_means_control, b=sample_means_target, equal_var=True)\n",
    "concl_t_test = '=> не стат значимо, Средние значения совокупностей равны' if sp_t_test[1]>0.05 else '=> стат значимо, cредние значения совокупностей отличны' \n",
    "print('Тест на равентво средних значений контрольной и тестовой групп: W = %.3f' % sp_t_test[0],'\\np-value = %.6f' % sp_t_test[1], concl_t_test)"
   ]
  },
  {
   "cell_type": "code",
   "execution_count": 87,
   "id": "53f1ecc3",
   "metadata": {},
   "outputs": [
    {
     "name": "stdout",
     "output_type": "stream",
     "text": [
      "Новый дизайн сайта увеличил конверсию на 1.22%\n"
     ]
    }
   ],
   "source": [
    "percent_diff = (var_data.control.mean() - var_data.target.mean())/var_data.target.mean() * 100\n",
    "print(f'Новый дизайн сайта увеличил конверсию на {np.round(percent_diff, 2)}%')"
   ]
  },
  {
   "cell_type": "markdown",
   "id": "3b474b21",
   "metadata": {},
   "source": [
    "### В итоге, изменение дизайна страницы сайта статистически значимо повлияло на увеличение показателя метрики conveted на 1.22%"
   ]
  }
 ],
 "metadata": {
  "kernelspec": {
   "display_name": "Python 3 (ipykernel)",
   "language": "python",
   "name": "python3"
  },
  "language_info": {
   "codemirror_mode": {
    "name": "ipython",
    "version": 3
   },
   "file_extension": ".py",
   "mimetype": "text/x-python",
   "name": "python",
   "nbconvert_exporter": "python",
   "pygments_lexer": "ipython3",
   "version": "3.9.7"
  }
 },
 "nbformat": 4,
 "nbformat_minor": 5
}
